{
 "cells": [
  {
   "cell_type": "markdown",
   "id": "ac2f87b3-ea66-4d78-98db-d65098a89641",
   "metadata": {},
   "source": [
    "# Cathode test\n",
    "\n",
    "This notebook can be used to quickly visualize ZDF files."
   ]
  },
  {
   "cell_type": "markdown",
   "id": "db289444",
   "metadata": {},
   "source": [
    "## Simulation setup\n",
    "\n",
    "```c++\n",
    "    uint2 ntiles = {16, 16};\n",
    "    uint2 nx = {16,16};\n",
    "\n",
    "    float2 box = {25.6, 25.6};\n",
    "    float dt = 0.07;\n",
    "\n",
    "    Simulation sim( ntiles, nx, box, dt );\n",
    "\n",
    "    // Create cathode\n",
    "    Cathode cathode( \"cathode\", +1.0f, make_uint2(4,4), 1.0e5f );\n",
    "\n",
    "    // Set additional cathode parameters\n",
    "    cathode.n0 = 1.0f;\n",
    "    cathode.wall = edge::upper;\n",
    "    cathode.start = -6.4;\n",
    "    cathode.uth = make_float3( 0.1, 0.1, 0.1 );\n",
    "\n",
    "    auto bc = cathode.get_bc();\n",
    "    bc.x = { \n",
    "        .lower = species::bc::open,\n",
    "        .upper = species::bc::open\n",
    "    };\n",
    "\n",
    "    cathode.set_bc( bc );\n",
    "    sim.add_species( cathode );\n",
    "\n",
    "    cathode.save_charge();\n",
    "    cathode.save();\n",
    "    sim.current -> save( fcomp::x );\n",
    "    sim.emf -> save( emf::e, fcomp::x );\n",
    "\n",
    "    float const tmax = 51.2 ;\n",
    "\n",
    "    while( sim.get_t() < tmax ) {\n",
    "\n",
    "        sim.advance(); \n",
    "\n",
    "        if ( sim.get_iter() % 50 == 0 ) {\n",
    "            cathode.save_charge();\n",
    "            cathode.save();\n",
    "            sim.current -> save( fcomp::x );\n",
    "            sim.emf -> save( emf::e, fcomp::x );\n",
    "        }\n",
    "    }\n",
    "\n",
    "```\n",
    "\n"
   ]
  },
  {
   "cell_type": "markdown",
   "id": "ba1a524c",
   "metadata": {},
   "source": [
    "## Initialization"
   ]
  },
  {
   "cell_type": "code",
   "execution_count": 1,
   "id": "d6272591",
   "metadata": {},
   "outputs": [],
   "source": [
    "import visxd\n",
    "\n",
    "import matplotlib.pyplot as plt\n",
    "import matplotlib.colors as colors\n",
    "import numpy as np\n",
    "\n",
    "import ipywidgets as widgets\n",
    "\n",
    "plt.rcParams[\"figure.figsize\"] = [8,6]"
   ]
  },
  {
   "cell_type": "markdown",
   "id": "a82288ee",
   "metadata": {},
   "source": [
    "## Cathode injection"
   ]
  },
  {
   "cell_type": "markdown",
   "id": "290faac9",
   "metadata": {},
   "source": [
    "### Charge Density"
   ]
  },
  {
   "cell_type": "code",
   "execution_count": 2,
   "id": "3e5875cb",
   "metadata": {},
   "outputs": [
    {
     "data": {
      "application/vnd.jupyter.widget-view+json": {
       "model_id": "cb4935ecfff841f89a09f4d377c5ec3a",
       "version_major": 2,
       "version_minor": 0
      },
      "text/plain": [
       "interactive(children=(Dropdown(description='species', options=('cathode',), value='cathode'), IntSlider(value=…"
      ]
     },
     "metadata": {},
     "output_type": "display_data"
    }
   ],
   "source": [
    "xlim = None\n",
    "ylim = None\n",
    "\n",
    "@widgets.interact(\n",
    "    species=['cathode'], iter=(0, 700, 50))\n",
    "def view(species = 'cathode', iter = 0):\n",
    "    src = \"CHARGE/\" + species + \"/\" + species + \"-charge\"\n",
    "    visxd.plot_data(src, iter, xlim = xlim, ylim = ylim  )"
   ]
  },
  {
   "cell_type": "markdown",
   "id": "2120f0b1",
   "metadata": {},
   "source": [
    "### Electric field"
   ]
  },
  {
   "cell_type": "code",
   "execution_count": 3,
   "id": "a72b1f6c",
   "metadata": {},
   "outputs": [
    {
     "data": {
      "application/vnd.jupyter.widget-view+json": {
       "model_id": "abc4be996be94ba18906fed568b80f2f",
       "version_major": 2,
       "version_minor": 0
      },
      "text/plain": [
       "interactive(children=(IntSlider(value=0, description='iter', max=700, step=50), Output()), _dom_classes=('widg…"
      ]
     },
     "metadata": {},
     "output_type": "display_data"
    }
   ],
   "source": [
    "@widgets.interact(\n",
    "    iter=(0, 700, 50)\n",
    ")\n",
    "def view(iter = 0):\n",
    "    src = \"EMF/Ex\"\n",
    "    visxd.plot_data(src, iter, xlim = xlim  )"
   ]
  },
  {
   "cell_type": "markdown",
   "id": "0484bc8a",
   "metadata": {},
   "source": [
    "### Electric current"
   ]
  },
  {
   "cell_type": "code",
   "execution_count": 4,
   "id": "788567f4",
   "metadata": {},
   "outputs": [
    {
     "data": {
      "application/vnd.jupyter.widget-view+json": {
       "model_id": "d3f84bda0c854589ba9ac9e21e8572b2",
       "version_major": 2,
       "version_minor": 0
      },
      "text/plain": [
       "interactive(children=(IntSlider(value=0, description='iter', max=700, step=50), Output()), _dom_classes=('widg…"
      ]
     },
     "metadata": {},
     "output_type": "display_data"
    }
   ],
   "source": [
    "@widgets.interact(\n",
    "    iter=(0, 700, 50)\n",
    ")\n",
    "def view(iter = 0):\n",
    "    src = \"CURRENT/Jx\"\n",
    "    visxd.plot_data(src, iter, xlim = xlim  )"
   ]
  },
  {
   "cell_type": "markdown",
   "id": "403901b3",
   "metadata": {},
   "source": [
    "### Cathode particles"
   ]
  },
  {
   "cell_type": "code",
   "execution_count": null,
   "id": "d96d5895",
   "metadata": {},
   "outputs": [],
   "source": [
    "visxd.part2D( \"PARTICLES/cathode/particles-cathode-000400.zdf\", \"x\", \"y\", xlim=[100,104], ylim = [250,256])"
   ]
  }
 ],
 "metadata": {
  "kernelspec": {
   "display_name": "Python 3.9.13 64-bit",
   "language": "python",
   "name": "python3"
  },
  "language_info": {
   "codemirror_mode": {
    "name": "ipython",
    "version": 3
   },
   "file_extension": ".py",
   "mimetype": "text/x-python",
   "name": "python",
   "nbconvert_exporter": "python",
   "pygments_lexer": "ipython3",
   "version": "3.9.13"
  },
  "vscode": {
   "interpreter": {
    "hash": "767d51c1340bd893661ea55ea3124f6de3c7a262a8b4abca0554b478b1e2ff90"
   }
  }
 },
 "nbformat": 4,
 "nbformat_minor": 5
}
