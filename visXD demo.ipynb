{
 "cells": [
  {
   "cell_type": "markdown",
   "id": "ac2f87b3-ea66-4d78-98db-d65098a89641",
   "metadata": {},
   "source": [
    "# Visualizing ZDF files\n",
    "\n",
    "This notebook can be used to quickly visualize ZDF files."
   ]
  },
  {
   "cell_type": "markdown",
   "id": "db289444",
   "metadata": {},
   "source": [
    "## Main routines\n",
    "\n",
    "### Grid data\n",
    "\n",
    "* `grid2d` - Open a `.zdf` grid file and produce a 2D (colormap) plot\n",
    "* `vfield2d` - Open a 2 grid files and produce a field magnitude plot\n",
    "\n",
    "### Particle data\n",
    "\n",
    "* `part2D` - Open a `.zdf` particle file and produce a 2D (scatter) plot with the selected quantities\n",
    "* `histogram` - Open a `.zdf` particle file and produce a histogram plot of the selected quantity"
   ]
  },
  {
   "cell_type": "markdown",
   "id": "d1d7a935",
   "metadata": {},
   "source": [
    "## Example\n",
    "\n",
    "Visualize file `test-000000.zdf`:\n",
    "\n",
    "```python\n",
    "import visxd\n",
    "visxd.grid2d( \"test-000000.zdf\" )\n",
    "```\n"
   ]
  },
  {
   "cell_type": "markdown",
   "id": "0b060881",
   "metadata": {},
   "source": [
    "## Utilities\n",
    "\n",
    "The following routines are meant to simplify access to specific quantities / timesteps:\n",
    "\n",
    "* `plot_data( fld, iter, ...)` - Plots 1D / 2D scalar data. The parameter `fld` correponds to the complete file path up to the '-' character that separates the iteration number, e.g. \"EMF/Jx\".\n",
    "* `plot_vfield2d( fld, iter, ...)` - Generates 2 plots, 1 for the magnitude of the in-plane field and another one for the out of plane field. The parameter `fld` correponds to the complete file path up to the character that specifies the field component, just befor the '-' character separates the iteration number, e.g. \"EMF/B\".\n",
    "\n",
    "The iteration parameter, `iter`, will be converted to a six digit string of the usual format to create the complete file name. The routines also accept additional parameters that are passed on to the `visxd` backend, e.g.:\n",
    "\n",
    "```python\n",
    "plot_vfield2d( \"EMF/E\", xlim = (0., 2.))\n",
    "```"
   ]
  },
  {
   "cell_type": "code",
   "execution_count": null,
   "id": "d6272591",
   "metadata": {},
   "outputs": [],
   "source": [
    "import visxd\n",
    "\n",
    "import os.path\n",
    "import sys\n",
    "\n",
    "import matplotlib.pyplot as plt\n",
    "plt.rcParams[\"figure.figsize\"] = [8,6]\n",
    "\n",
    "import matplotlib.colors as colors\n",
    "\n",
    "\n"
   ]
  },
  {
   "cell_type": "code",
   "execution_count": null,
   "id": "60cabb36",
   "metadata": {},
   "outputs": [],
   "source": [
    "import visxd\n",
    "visxd.plot_data(\"CHARGE/electrons/electrons-charge\", 0)"
   ]
  },
  {
   "cell_type": "markdown",
   "id": "a82288ee",
   "metadata": {},
   "source": [
    "## Species Boundary conditions"
   ]
  },
  {
   "cell_type": "code",
   "execution_count": null,
   "id": "2efcf1f4",
   "metadata": {},
   "outputs": [],
   "source": [
    "import visxd\n",
    "import matplotlib.pyplot as plt\n",
    "plt.rcParams[\"figure.figsize\"] = [8,6]\n",
    "\n",
    "import ipywidgets as widgets\n",
    "from ipywidgets import HBox, VBox\n",
    "import numpy as np\n",
    "from IPython.display import display\n",
    "\n",
    "xlim = None"
   ]
  },
  {
   "cell_type": "code",
   "execution_count": null,
   "id": "3e5875cb",
   "metadata": {},
   "outputs": [],
   "source": [
    "\n",
    "xlim = [10,10.4]\n",
    "ylim = [25.0, 25.6]\n",
    "\n",
    "xlim = None\n",
    "ylim = None\n",
    "\n",
    "@widgets.interact(\n",
    "    species=['cathode'], iter=(0, 700, 50))\n",
    "def view(species = 'cathode', iter = 0):\n",
    "    src = \"CHARGE/\" + species + \"/\" + species + \"-charge\"\n",
    "    visxd.plot_data(src, iter, xlim = xlim, ylim = ylim  )"
   ]
  },
  {
   "cell_type": "code",
   "execution_count": null,
   "id": "a72b1f6c",
   "metadata": {},
   "outputs": [],
   "source": [
    "@widgets.interact(\n",
    "    iter=(0, 700, 50)\n",
    ")\n",
    "def view(iter = 0):\n",
    "    src = \"EMF/Ex\"\n",
    "    visxd.plot_data(src, iter, xlim = xlim  )"
   ]
  },
  {
   "cell_type": "code",
   "execution_count": null,
   "id": "788567f4",
   "metadata": {},
   "outputs": [],
   "source": [
    "@widgets.interact(\n",
    "    iter=(0, 700, 50)\n",
    ")\n",
    "def view(iter = 0):\n",
    "    src = \"CURRENT/Jx\"\n",
    "    visxd.plot_data(src, iter, xlim = xlim  )"
   ]
  },
  {
   "cell_type": "code",
   "execution_count": null,
   "id": "d96d5895",
   "metadata": {},
   "outputs": [],
   "source": [
    "visxd.part2D( \"PARTICLES/cathode/particles-cathode-000400.zdf\", \"x\", \"y\", xlim=[100,104], ylim = [250,256])"
   ]
  },
  {
   "cell_type": "code",
   "execution_count": null,
   "id": "c961b92f",
   "metadata": {},
   "outputs": [],
   "source": [
    "! make && ./zpic-cuda"
   ]
  },
  {
   "cell_type": "code",
   "execution_count": null,
   "id": "876defb5",
   "metadata": {},
   "outputs": [],
   "source": []
  }
 ],
 "metadata": {
  "kernelspec": {
   "display_name": "Python 3.9.13 64-bit",
   "language": "python",
   "name": "python3"
  },
  "language_info": {
   "codemirror_mode": {
    "name": "ipython",
    "version": 3
   },
   "file_extension": ".py",
   "mimetype": "text/x-python",
   "name": "python",
   "nbconvert_exporter": "python",
   "pygments_lexer": "ipython3",
   "version": "3.9.13"
  },
  "vscode": {
   "interpreter": {
    "hash": "e7370f93d1d0cde622a1f8e1c04877d8463912d04d973331ad4851f04de6915a"
   }
  }
 },
 "nbformat": 4,
 "nbformat_minor": 5
}
